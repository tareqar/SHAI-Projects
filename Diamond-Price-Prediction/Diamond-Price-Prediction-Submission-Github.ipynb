{
 "cells": [
  {
   "attachments": {},
   "cell_type": "markdown",
   "metadata": {},
   "source": [
    "### Diamond Price prediction Competition\n",
    "By"
   ]
  },
  {
   "cell_type": "code",
   "execution_count": 1,
   "metadata": {},
   "outputs": [],
   "source": [
    "import numpy as np\n",
    "import pandas as pd\n",
    "import matplotlib.pyplot as plt\n",
    "%matplotlib inline \n",
    "import seaborn as sns\n",
    "from sklearn.model_selection import train_test_split, GridSearchCV\n",
    "from pandas.plotting import scatter_matrix\n",
    "from sklearn.impute import SimpleImputer\n",
    "from sklearn.preprocessing import OneHotEncoder\n",
    "from sklearn.base import BaseEstimator, TransformerMixin\n",
    "from sklearn.pipeline import Pipeline\n",
    "from sklearn.preprocessing import StandardScaler\n",
    "from sklearn.compose import ColumnTransformer\n",
    "from sklearn.pipeline import make_pipeline\n",
    "from sklearn import preprocessing\n",
    "from sklearn.model_selection import cross_val_score\n"
   ]
  },
  {
   "cell_type": "code",
   "execution_count": 4,
   "metadata": {},
   "outputs": [
    {
     "name": "stdout",
     "output_type": "stream",
     "text": [
      "       carat        cut color clarity  depth  table  price     x     y     z\n",
      "0       1.06      Ideal     I     SI2   61.8   57.0   4270  6.57  6.60  4.07\n",
      "1       1.51    Premium     G    VVS2   60.9   58.0  15164  7.38  7.42  4.51\n",
      "2       0.32      Ideal     F     VS2   61.3   56.0    828  4.43  4.41  2.71\n",
      "3       0.53      Ideal     G     VS2   61.2   56.0   1577  5.19  5.22  3.19\n",
      "4       0.70    Premium     H    VVS2   61.0   57.0   2596  5.76  5.72  3.50\n",
      "...      ...        ...   ...     ...    ...    ...    ...   ...   ...   ...\n",
      "43147   0.52      Ideal     E     VS2   61.5   56.0   1760  5.16  5.18  3.18\n",
      "43148   0.72  Very Good     D     VS2   62.1   59.0   3016  5.70  5.73  3.55\n",
      "43149   0.44    Premium     I    VVS1   61.5   58.0    990  4.95  4.87  3.02\n",
      "43150   0.31    Premium     E     VS1   60.2   58.0    734  4.38  4.43  2.65\n",
      "43151   0.33      Ideal     G     VS2   61.2   55.0    743  4.49  4.46  2.74\n",
      "\n",
      "[43152 rows x 10 columns]\n",
      "train_set shape is:  (43152, 10)\n"
     ]
    }
   ],
   "source": [
    "train_set =pd.read_csv('L:\\Python-data-ex\\SHAI\\datasets\\diamond-price-prediction-train.csv')\n",
    "train_set.drop(['Id'], axis=1, inplace=True) \n",
    "print(train_set)\n",
    "print(\"train_set shape is: \", train_set.shape)"
   ]
  },
  {
   "cell_type": "code",
   "execution_count": 4,
   "metadata": {},
   "outputs": [
    {
     "name": "stdout",
     "output_type": "stream",
     "text": [
      "<class 'pandas.core.frame.DataFrame'>\n",
      "RangeIndex: 43152 entries, 0 to 43151\n",
      "Data columns (total 10 columns):\n",
      " #   Column   Non-Null Count  Dtype  \n",
      "---  ------   --------------  -----  \n",
      " 0   carat    43152 non-null  float64\n",
      " 1   cut      43152 non-null  object \n",
      " 2   color    43152 non-null  object \n",
      " 3   clarity  43152 non-null  object \n",
      " 4   depth    43152 non-null  float64\n",
      " 5   table    43152 non-null  float64\n",
      " 6   price    43152 non-null  int64  \n",
      " 7   x        43152 non-null  float64\n",
      " 8   y        43152 non-null  float64\n",
      " 9   z        43152 non-null  float64\n",
      "dtypes: float64(6), int64(1), object(3)\n",
      "memory usage: 3.3+ MB\n"
     ]
    }
   ],
   "source": [
    "train_set.info()"
   ]
  },
  {
   "cell_type": "code",
   "execution_count": 75,
   "metadata": {},
   "outputs": [
    {
     "data": {
      "text/html": [
       "<div>\n",
       "<style scoped>\n",
       "    .dataframe tbody tr th:only-of-type {\n",
       "        vertical-align: middle;\n",
       "    }\n",
       "\n",
       "    .dataframe tbody tr th {\n",
       "        vertical-align: top;\n",
       "    }\n",
       "\n",
       "    .dataframe thead th {\n",
       "        text-align: right;\n",
       "    }\n",
       "</style>\n",
       "<table border=\"1\" class=\"dataframe\">\n",
       "  <thead>\n",
       "    <tr style=\"text-align: right;\">\n",
       "      <th></th>\n",
       "      <th>carat</th>\n",
       "      <th>depth</th>\n",
       "      <th>table</th>\n",
       "      <th>price</th>\n",
       "      <th>x</th>\n",
       "      <th>y</th>\n",
       "      <th>z</th>\n",
       "    </tr>\n",
       "  </thead>\n",
       "  <tbody>\n",
       "    <tr>\n",
       "      <th>count</th>\n",
       "      <td>43152.000000</td>\n",
       "      <td>43152.000000</td>\n",
       "      <td>43152.000000</td>\n",
       "      <td>43152.000000</td>\n",
       "      <td>43152.000000</td>\n",
       "      <td>43152.000000</td>\n",
       "      <td>43152.000000</td>\n",
       "    </tr>\n",
       "    <tr>\n",
       "      <th>mean</th>\n",
       "      <td>0.797855</td>\n",
       "      <td>61.747177</td>\n",
       "      <td>57.458347</td>\n",
       "      <td>3929.491912</td>\n",
       "      <td>5.731568</td>\n",
       "      <td>5.735018</td>\n",
       "      <td>3.538568</td>\n",
       "    </tr>\n",
       "    <tr>\n",
       "      <th>std</th>\n",
       "      <td>0.473594</td>\n",
       "      <td>1.435454</td>\n",
       "      <td>2.233904</td>\n",
       "      <td>3985.527795</td>\n",
       "      <td>1.121279</td>\n",
       "      <td>1.148809</td>\n",
       "      <td>0.708238</td>\n",
       "    </tr>\n",
       "    <tr>\n",
       "      <th>min</th>\n",
       "      <td>0.200000</td>\n",
       "      <td>43.000000</td>\n",
       "      <td>43.000000</td>\n",
       "      <td>326.000000</td>\n",
       "      <td>0.000000</td>\n",
       "      <td>0.000000</td>\n",
       "      <td>0.000000</td>\n",
       "    </tr>\n",
       "    <tr>\n",
       "      <th>25%</th>\n",
       "      <td>0.400000</td>\n",
       "      <td>61.000000</td>\n",
       "      <td>56.000000</td>\n",
       "      <td>947.750000</td>\n",
       "      <td>4.710000</td>\n",
       "      <td>4.720000</td>\n",
       "      <td>2.910000</td>\n",
       "    </tr>\n",
       "    <tr>\n",
       "      <th>50%</th>\n",
       "      <td>0.700000</td>\n",
       "      <td>61.800000</td>\n",
       "      <td>57.000000</td>\n",
       "      <td>2401.000000</td>\n",
       "      <td>5.700000</td>\n",
       "      <td>5.710000</td>\n",
       "      <td>3.530000</td>\n",
       "    </tr>\n",
       "    <tr>\n",
       "      <th>75%</th>\n",
       "      <td>1.040000</td>\n",
       "      <td>62.500000</td>\n",
       "      <td>59.000000</td>\n",
       "      <td>5312.000000</td>\n",
       "      <td>6.540000</td>\n",
       "      <td>6.540000</td>\n",
       "      <td>4.040000</td>\n",
       "    </tr>\n",
       "    <tr>\n",
       "      <th>max</th>\n",
       "      <td>5.010000</td>\n",
       "      <td>79.000000</td>\n",
       "      <td>95.000000</td>\n",
       "      <td>18823.000000</td>\n",
       "      <td>10.740000</td>\n",
       "      <td>58.900000</td>\n",
       "      <td>31.800000</td>\n",
       "    </tr>\n",
       "  </tbody>\n",
       "</table>\n",
       "</div>"
      ],
      "text/plain": [
       "              carat         depth         table         price             x  \\\n",
       "count  43152.000000  43152.000000  43152.000000  43152.000000  43152.000000   \n",
       "mean       0.797855     61.747177     57.458347   3929.491912      5.731568   \n",
       "std        0.473594      1.435454      2.233904   3985.527795      1.121279   \n",
       "min        0.200000     43.000000     43.000000    326.000000      0.000000   \n",
       "25%        0.400000     61.000000     56.000000    947.750000      4.710000   \n",
       "50%        0.700000     61.800000     57.000000   2401.000000      5.700000   \n",
       "75%        1.040000     62.500000     59.000000   5312.000000      6.540000   \n",
       "max        5.010000     79.000000     95.000000  18823.000000     10.740000   \n",
       "\n",
       "                  y             z  \n",
       "count  43152.000000  43152.000000  \n",
       "mean       5.735018      3.538568  \n",
       "std        1.148809      0.708238  \n",
       "min        0.000000      0.000000  \n",
       "25%        4.720000      2.910000  \n",
       "50%        5.710000      3.530000  \n",
       "75%        6.540000      4.040000  \n",
       "max       58.900000     31.800000  "
      ]
     },
     "execution_count": 75,
     "metadata": {},
     "output_type": "execute_result"
    }
   ],
   "source": [
    "train_set.describe()"
   ]
  },
  {
   "cell_type": "code",
   "execution_count": 124,
   "metadata": {},
   "outputs": [
    {
     "data": {
      "text/plain": [
       "17"
      ]
     },
     "execution_count": 124,
     "metadata": {},
     "output_type": "execute_result"
    }
   ],
   "source": [
    "# train_set[train_set['x']==0]['x'].count()\n",
    "# train_set[train_set['y']==0]['y'].count()\n",
    "train_set[train_set['z']==0]['z'].count()"
   ]
  },
  {
   "attachments": {},
   "cell_type": "markdown",
   "metadata": {},
   "source": [
    "Checking the correlation"
   ]
  },
  {
   "cell_type": "code",
   "execution_count": 19,
   "metadata": {},
   "outputs": [],
   "source": [
    "# train_set['volume'] = train_set['x'] *train_set['y'] *train_set['z']\n",
    "# train_set"
   ]
  },
  {
   "cell_type": "code",
   "execution_count": 74,
   "metadata": {},
   "outputs": [
    {
     "data": {
      "text/html": [
       "<div>\n",
       "<style scoped>\n",
       "    .dataframe tbody tr th:only-of-type {\n",
       "        vertical-align: middle;\n",
       "    }\n",
       "\n",
       "    .dataframe tbody tr th {\n",
       "        vertical-align: top;\n",
       "    }\n",
       "\n",
       "    .dataframe thead th {\n",
       "        text-align: right;\n",
       "    }\n",
       "</style>\n",
       "<table border=\"1\" class=\"dataframe\">\n",
       "  <thead>\n",
       "    <tr style=\"text-align: right;\">\n",
       "      <th></th>\n",
       "      <th>carat</th>\n",
       "      <th>depth</th>\n",
       "      <th>table</th>\n",
       "      <th>price</th>\n",
       "      <th>x</th>\n",
       "      <th>y</th>\n",
       "      <th>z</th>\n",
       "    </tr>\n",
       "  </thead>\n",
       "  <tbody>\n",
       "    <tr>\n",
       "      <th>carat</th>\n",
       "      <td>1.000000</td>\n",
       "      <td>0.023944</td>\n",
       "      <td>0.182889</td>\n",
       "      <td>0.921911</td>\n",
       "      <td>0.975760</td>\n",
       "      <td>0.947060</td>\n",
       "      <td>0.948923</td>\n",
       "    </tr>\n",
       "    <tr>\n",
       "      <th>depth</th>\n",
       "      <td>0.023944</td>\n",
       "      <td>1.000000</td>\n",
       "      <td>-0.302794</td>\n",
       "      <td>-0.013137</td>\n",
       "      <td>-0.029601</td>\n",
       "      <td>-0.033354</td>\n",
       "      <td>0.090834</td>\n",
       "    </tr>\n",
       "    <tr>\n",
       "      <th>table</th>\n",
       "      <td>0.182889</td>\n",
       "      <td>-0.302794</td>\n",
       "      <td>1.000000</td>\n",
       "      <td>0.128501</td>\n",
       "      <td>0.197342</td>\n",
       "      <td>0.184310</td>\n",
       "      <td>0.150746</td>\n",
       "    </tr>\n",
       "    <tr>\n",
       "      <th>price</th>\n",
       "      <td>0.921911</td>\n",
       "      <td>-0.013137</td>\n",
       "      <td>0.128501</td>\n",
       "      <td>1.000000</td>\n",
       "      <td>0.885181</td>\n",
       "      <td>0.861354</td>\n",
       "      <td>0.857665</td>\n",
       "    </tr>\n",
       "    <tr>\n",
       "      <th>x</th>\n",
       "      <td>0.975760</td>\n",
       "      <td>-0.029601</td>\n",
       "      <td>0.197342</td>\n",
       "      <td>0.885181</td>\n",
       "      <td>1.000000</td>\n",
       "      <td>0.968954</td>\n",
       "      <td>0.965677</td>\n",
       "    </tr>\n",
       "    <tr>\n",
       "      <th>y</th>\n",
       "      <td>0.947060</td>\n",
       "      <td>-0.033354</td>\n",
       "      <td>0.184310</td>\n",
       "      <td>0.861354</td>\n",
       "      <td>0.968954</td>\n",
       "      <td>1.000000</td>\n",
       "      <td>0.942670</td>\n",
       "    </tr>\n",
       "    <tr>\n",
       "      <th>z</th>\n",
       "      <td>0.948923</td>\n",
       "      <td>0.090834</td>\n",
       "      <td>0.150746</td>\n",
       "      <td>0.857665</td>\n",
       "      <td>0.965677</td>\n",
       "      <td>0.942670</td>\n",
       "      <td>1.000000</td>\n",
       "    </tr>\n",
       "  </tbody>\n",
       "</table>\n",
       "</div>"
      ],
      "text/plain": [
       "          carat     depth     table     price         x         y         z\n",
       "carat  1.000000  0.023944  0.182889  0.921911  0.975760  0.947060  0.948923\n",
       "depth  0.023944  1.000000 -0.302794 -0.013137 -0.029601 -0.033354  0.090834\n",
       "table  0.182889 -0.302794  1.000000  0.128501  0.197342  0.184310  0.150746\n",
       "price  0.921911 -0.013137  0.128501  1.000000  0.885181  0.861354  0.857665\n",
       "x      0.975760 -0.029601  0.197342  0.885181  1.000000  0.968954  0.965677\n",
       "y      0.947060 -0.033354  0.184310  0.861354  0.968954  1.000000  0.942670\n",
       "z      0.948923  0.090834  0.150746  0.857665  0.965677  0.942670  1.000000"
      ]
     },
     "execution_count": 74,
     "metadata": {},
     "output_type": "execute_result"
    }
   ],
   "source": [
    "train_set.corr()"
   ]
  },
  {
   "attachments": {},
   "cell_type": "markdown",
   "metadata": {},
   "source": [
    "We find the attributes that have strong correlation with price below"
   ]
  },
  {
   "cell_type": "code",
   "execution_count": 76,
   "metadata": {},
   "outputs": [
    {
     "data": {
      "text/plain": [
       "price    1.000000\n",
       "carat    0.921911\n",
       "x        0.885181\n",
       "y        0.861354\n",
       "z        0.857665\n",
       "table    0.128501\n",
       "depth   -0.013137\n",
       "Name: price, dtype: float64"
      ]
     },
     "execution_count": 76,
     "metadata": {},
     "output_type": "execute_result"
    }
   ],
   "source": [
    "train_set.corr()['price'].sort_values(ascending=False)"
   ]
  },
  {
   "cell_type": "code",
   "execution_count": 22,
   "metadata": {},
   "outputs": [
    {
     "data": {
      "text/plain": [
       "<Axes: >"
      ]
     },
     "execution_count": 22,
     "metadata": {},
     "output_type": "execute_result"
    },
    {
     "data": {
      "image/png": "[encoded data removed]",
      "text/plain": [
       "<Figure size 640x480 with 2 Axes>"
      ]
     },
     "metadata": {},
     "output_type": "display_data"
    }
   ],
   "source": [
    "sns.heatmap(train_set.corr(), annot=True, cmap='crest')"
   ]
  },
  {
   "cell_type": "code",
   "execution_count": 77,
   "metadata": {},
   "outputs": [
    {
     "data": {
      "text/plain": [
       "array([[<Axes: title={'center': 'carat'}>,\n",
       "        <Axes: title={'center': 'depth'}>,\n",
       "        <Axes: title={'center': 'table'}>],\n",
       "       [<Axes: title={'center': 'price'}>, <Axes: title={'center': 'x'}>,\n",
       "        <Axes: title={'center': 'y'}>],\n",
       "       [<Axes: title={'center': 'z'}>, <Axes: >, <Axes: >]], dtype=object)"
      ]
     },
     "execution_count": 77,
     "metadata": {},
     "output_type": "execute_result"
    },
    {
     "data": {
      "image/png": "[encoded data removed]",
      "text/plain": [
       "<Figure size 1500x1500 with 9 Axes>"
      ]
     },
     "metadata": {},
     "output_type": "display_data"
    }
   ],
   "source": [
    "train_set.hist(figsize=(15,15))"
   ]
  },
  {
   "cell_type": "code",
   "execution_count": 24,
   "metadata": {},
   "outputs": [
    {
     "data": {
      "text/plain": [
       "<Axes: xlabel='price', ylabel='color'>"
      ]
     },
     "execution_count": 24,
     "metadata": {},
     "output_type": "execute_result"
    },
    {
     "data": {
      "image/png": "[encoded data removed]",
      "text/plain": [
       "<Figure size 640x480 with 1 Axes>"
      ]
     },
     "metadata": {},
     "output_type": "display_data"
    }
   ],
   "source": [
    "# train_set['price']\n",
    "sns.boxplot(x=train_set['price'], y=train_set['color'])\n",
    "\n",
    "#There are outliers as we can see"
   ]
  },
  {
   "cell_type": "code",
   "execution_count": null,
   "metadata": {},
   "outputs": [],
   "source": [
    "for col in train_set.select_dtypes(include=[np.number]).columns: \n",
    "    if col == \"price\":\n",
    "        continue\n",
    "    \n",
    "    ax = sns.lmplot(data=train_set, x='price', y=col) #implot looks better than scatterplot\n",
    "    plt.title(f\"Price Vs. {col}\")\n",
    "    plt.show()"
   ]
  },
  {
   "attachments": {},
   "cell_type": "markdown",
   "metadata": {},
   "source": [
    "We have to check if there are any missing values or zeros:"
   ]
  },
  {
   "cell_type": "code",
   "execution_count": 78,
   "metadata": {},
   "outputs": [
    {
     "data": {
      "text/plain": [
       "carat      0\n",
       "cut        0\n",
       "color      0\n",
       "clarity    0\n",
       "depth      0\n",
       "table      0\n",
       "price      0\n",
       "x          0\n",
       "y          0\n",
       "z          0\n",
       "dtype: int64"
      ]
     },
     "execution_count": 78,
     "metadata": {},
     "output_type": "execute_result"
    }
   ],
   "source": [
    "train_set.isna().sum()"
   ]
  },
  {
   "cell_type": "code",
   "execution_count": 79,
   "metadata": {},
   "outputs": [
    {
     "data": {
      "text/plain": [
       "carat      0\n",
       "cut        0\n",
       "color      0\n",
       "clarity    0\n",
       "depth      0\n",
       "table      0\n",
       "price      0\n",
       "x          0\n",
       "y          0\n",
       "z          0\n",
       "dtype: int64"
      ]
     },
     "execution_count": 79,
     "metadata": {},
     "output_type": "execute_result"
    }
   ],
   "source": [
    "train_set.isnull().sum()"
   ]
  },
  {
   "attachments": {},
   "cell_type": "markdown",
   "metadata": {},
   "source": [
    "# Preprocessing"
   ]
  },
  {
   "attachments": {},
   "cell_type": "markdown",
   "metadata": {},
   "source": [
    "Splitting the data then handling columns with numerical and categorical data"
   ]
  },
  {
   "cell_type": "code",
   "execution_count": 2,
   "metadata": {},
   "outputs": [
    {
     "data": {
      "text/plain": [
       "'As with all estimators, it is important to fit the scalers to the training data only: never use fit() or fit_transform() for anything else \\nthan the training set. Once you have a trained scaler, you can then use it to transform() any other set, including the validation set, \\nthe test set, and new data. Note that while the training set values will always be scaled to the specified range, \\nif new data contains outliers, these may end up scaled outside the range. If you want to avoid this, \\njust set the clip hyperparameter to True.'"
      ]
     },
     "execution_count": 2,
     "metadata": {},
     "output_type": "execute_result"
    }
   ],
   "source": [
    "# train_set\n",
    "#Note to self: \n",
    "'''As with all estimators, it is important to fit the scalers to the training data only: never use fit() or fit_transform() for anything else \n",
    "than the training set. Once you have a trained scaler, you can then use it to transform() any other set, including the validation set, \n",
    "the test set, and new data. Note that while the training set values will always be scaled to the specified range, \n",
    "if new data contains outliers, these may end up scaled outside the range. If you want to avoid this, \n",
    "just set the clip hyperparameter to True.'''"
   ]
  },
  {
   "cell_type": "code",
   "execution_count": 5,
   "metadata": {},
   "outputs": [
    {
     "name": "stdout",
     "output_type": "stream",
     "text": [
      "X_train shape is : (34521, 9)\n",
      "y_train shape is : (34521,)\n",
      "X_test shape is : (8631, 9)\n",
      "y_test shape is : (8631,)\n"
     ]
    }
   ],
   "source": [
    "# train_split , test_split = train_test_split(train_set, test_size=0.2, random_state=42)\n",
    "# train_set\n",
    "X = train_set.drop(columns = 'price')\n",
    "y = train_set['price']\n",
    "\n",
    "X_train , X_test, y_train , y_test = train_test_split(X,y, test_size=0.2, random_state=42)\n",
    "# train_split_num = train_split.drop(['cut','color','clarity',\"price\"], axis=1) #Dropping categorical data\n",
    "# test_split_num = test_split.drop(['cut','color','clarity',\"price\"], axis=1)\n",
    "\n",
    "print('X_train shape is :',X_train.shape )\n",
    "print('y_train shape is :',y_train.shape )\n",
    "print('X_test shape is :',X_test.shape )\n",
    "print('y_test shape is :',y_test.shape )"
   ]
  },
  {
   "attachments": {},
   "cell_type": "markdown",
   "metadata": {},
   "source": [
    "We create Pipelines for numerical and categorical attributes"
   ]
  },
  {
   "cell_type": "code",
   "execution_count": 6,
   "metadata": {},
   "outputs": [],
   "source": [
    "from sklearn.compose import ColumnTransformer\n",
    "from sklearn.preprocessing import OrdinalEncoder\n",
    "\n",
    "# from sklearn.compose import make_column_selector, make_column_transformer\n",
    "# from sklearn.preprocessing import RobustScaler\n",
    "# from sklearn.preprocessing import PowerTransformer\n",
    "\n",
    "# cat_pipeline = Pipeline(['cat_transformer', OneHotEncoder(sparse=False)])\n",
    "# num_pipeline = Pipeline([('std_scaler', StandardScaler())])"
   ]
  },
  {
   "cell_type": "code",
   "execution_count": 7,
   "metadata": {},
   "outputs": [
    {
     "data": {
      "text/plain": [
       "array([[ 1.58280818,  0.59130205,  0.68743802, ...,  3.        ,\n",
       "         6.        ,  4.        ],\n",
       "       [ 0.50964878,  0.31264198,  0.23918171, ...,  3.        ,\n",
       "         3.        ,  0.        ],\n",
       "       [ 0.88841092,  0.0339819 ,  0.23918171, ...,  3.        ,\n",
       "         3.        ,  5.        ],\n",
       "       ...,\n",
       "       [-1.04748446,  0.66096707,  1.13569433, ...,  3.        ,\n",
       "         0.        ,  2.        ],\n",
       "       [ 1.47759647, -1.63797854,  1.13569433, ...,  2.        ,\n",
       "         5.        ,  2.        ],\n",
       "       [-0.81601871, -0.17501315, -0.20907461, ...,  2.        ,\n",
       "         3.        ,  6.        ]])"
      ]
     },
     "execution_count": 7,
     "metadata": {},
     "output_type": "execute_result"
    }
   ],
   "source": [
    "num_attribs = [\"carat\", \"depth\", \"table\", \"x\", \"y\",'z']\n",
    "cat_attribs = [\"cut\",'color','clarity']\n",
    "\n",
    "# cat_pipeline = Pipeline(['cat_transformer', OneHotEncoder(handle_unknown=\"ignore\",sparse=False)]) \n",
    "\n",
    "num_pipeline = Pipeline([('std_scaler', StandardScaler()),])  #to standardize the data\n",
    "\n",
    "#or make_pipeline(StandardScaler())\n",
    "\n",
    "# These transformers gave worse results ('Pwr-Trans', PowerTransformer(method=\"yeo-johnson\"))\n",
    "# [('Robust-Scaler', RobustScaler()),]\n",
    "\n",
    "#ColumnTransformer([(name,operations,attributes)])\n",
    "transformer= ColumnTransformer([\n",
    "    (\"num\", num_pipeline, num_attribs), \n",
    "    (\"cat\",  OrdinalEncoder(), cat_attribs)])\n",
    "\n",
    "# (\"cat\",  OneHotEncoder(sparse=False), cat_attribs)]) Ordinal encoder gives better results\n",
    "\n",
    "transformed_columns_train = transformer.fit_transform(X_train,y_train)\n",
    "transformed_columns_test = transformer.fit_transform(X_test,y_test)\n",
    "transformed_columns_train"
   ]
  },
  {
   "cell_type": "code",
   "execution_count": 22,
   "metadata": {},
   "outputs": [],
   "source": [
    "#OR using make_column_transformer\n",
    "# from sklearn.compose import make_column_transformer\n",
    "# tc = make_column_transformer ((StandardScaler(),num_attribs),\n",
    "#                               (OneHotEncoder(handle_unknown=\"ignore\",sparse=False),cat_attribs ),\n",
    "#                               )\n",
    "# tc.fit_transform(X_train,y_train)"
   ]
  },
  {
   "attachments": {},
   "cell_type": "markdown",
   "metadata": {},
   "source": [
    "# Model evaluation\n",
    "Using the below methods then measuring root mean squared error (rmse), the lower the rmse value is the better "
   ]
  },
  {
   "cell_type": "code",
   "execution_count": 8,
   "metadata": {},
   "outputs": [],
   "source": [
    "#Different methods that I will be using:\n",
    "from sklearn.linear_model import LinearRegression\n",
    "from sklearn.tree import DecisionTreeRegressor\n",
    "from sklearn.ensemble import RandomForestRegressor\n",
    "from sklearn.neighbors import KNeighborsRegressor\n",
    "from xgboost import XGBRegressor\n",
    "from sklearn.metrics import mean_squared_error\n",
    "\n",
    "\n",
    "linear_reg = LinearRegression()\n",
    "dec_tree_reg = DecisionTreeRegressor(random_state = 0)\n",
    "rand_forest_reg = RandomForestRegressor(random_state=0)\n",
    "knn_reg = KNeighborsRegressor()\n",
    "xgb_reg = XGBRegressor()\n",
    "\n",
    "\n",
    "model = [linear_reg,dec_tree_reg,rand_forest_reg,knn_reg,xgb_reg]"
   ]
  },
  {
   "cell_type": "code",
   "execution_count": 9,
   "metadata": {},
   "outputs": [
    {
     "name": "stdout",
     "output_type": "stream",
     "text": [
      "Model 1 MSE: 1699672\n",
      "RMSE for LinearRegression() is 1303.7148563760343\n",
      "Model 2 MSE: 929984\n",
      "RMSE for DecisionTreeRegressor(random_state=0) is 964.3568474301896\n",
      "Model 3 MSE: 475019\n",
      "RMSE for RandomForestRegressor(random_state=0) is 689.2166525255504\n",
      "Model 4 MSE: 559208\n",
      "RMSE for KNeighborsRegressor() is 747.8021783931233\n",
      "Model 5 MSE: 575178\n",
      "RMSE for XGBRegressor(base_score=None, booster=None, callbacks=None,\n",
      "             colsample_bylevel=None, colsample_bynode=None,\n",
      "             colsample_bytree=None, early_stopping_rounds=None,\n",
      "             enable_categorical=False, eval_metric=None, feature_types=None,\n",
      "             gamma=None, gpu_id=None, grow_policy=None, importance_type=None,\n",
      "             interaction_constraints=None, learning_rate=None, max_bin=None,\n",
      "             max_cat_threshold=None, max_cat_to_onehot=None,\n",
      "             max_delta_step=None, max_depth=None, max_leaves=None,\n",
      "             min_child_weight=None, missing=nan, monotone_constraints=None,\n",
      "             n_estimators=100, n_jobs=None, num_parallel_tree=None,\n",
      "             predictor=None, random_state=None, ...) is 758.4052382146215\n"
     ]
    }
   ],
   "source": [
    "# def score_model(model, X_t=X_train, X_v=X_valid, y_t=y_train, y_v=y_valid):\n",
    "#     model.fit(X_t, y_t)\n",
    "#     preds = model.predict(X_v)\n",
    "#     return mean_absolute_error(y_v, preds)\n",
    "\n",
    "# transformed_columns_train = transformer.fit_transform(X_train,y_train)\n",
    "# transformed_columns_test = transformer.fit_transform(X_test,y_test)\n",
    "\n",
    "for i in range(0, len(model)):\n",
    "    model[i].fit(transformed_columns_train, y_train)\n",
    "    preds = model[i].predict(transformed_columns_test)\n",
    "    mse = mean_squared_error(y_test, preds)\n",
    "    rmse = np.sqrt(mse)\n",
    "    print(\"Model %d MSE: %d\" % (i+1, mse))\n",
    "    print('RMSE for',model[i],'is', rmse)"
   ]
  },
  {
   "attachments": {},
   "cell_type": "markdown",
   "metadata": {},
   "source": [
    "Using Linear Regression"
   ]
  },
  {
   "cell_type": "code",
   "execution_count": 31,
   "metadata": {},
   "outputs": [
    {
     "data": {
      "text/html": [
       "<style>#sk-container-id-3 {color: black;background-color: white;}#sk-container-id-3 pre{padding: 0;}#sk-container-id-3 div.sk-toggleable {background-color: white;}#sk-container-id-3 label.sk-toggleable__label {cursor: pointer;display: block;width: 100%;margin-bottom: 0;padding: 0.3em;box-sizing: border-box;text-align: center;}#sk-container-id-3 label.sk-toggleable__label-arrow:before {content: \"▸\";float: left;margin-right: 0.25em;color: #696969;}#sk-container-id-3 label.sk-toggleable__label-arrow:hover:before {color: black;}#sk-container-id-3 div.sk-estimator:hover label.sk-toggleable__label-arrow:before {color: black;}#sk-container-id-3 div.sk-toggleable__content {max-height: 0;max-width: 0;overflow: hidden;text-align: left;background-color: #f0f8ff;}#sk-container-id-3 div.sk-toggleable__content pre {margin: 0.2em;color: black;border-radius: 0.25em;background-color: #f0f8ff;}#sk-container-id-3 input.sk-toggleable__control:checked~div.sk-toggleable__content {max-height: 200px;max-width: 100%;overflow: auto;}#sk-container-id-3 input.sk-toggleable__control:checked~label.sk-toggleable__label-arrow:before {content: \"▾\";}#sk-container-id-3 div.sk-estimator input.sk-toggleable__control:checked~label.sk-toggleable__label {background-color: #d4ebff;}#sk-container-id-3 div.sk-label input.sk-toggleable__control:checked~label.sk-toggleable__label {background-color: #d4ebff;}#sk-container-id-3 input.sk-hidden--visually {border: 0;clip: rect(1px 1px 1px 1px);clip: rect(1px, 1px, 1px, 1px);height: 1px;margin: -1px;overflow: hidden;padding: 0;position: absolute;width: 1px;}#sk-container-id-3 div.sk-estimator {font-family: monospace;background-color: #f0f8ff;border: 1px dotted black;border-radius: 0.25em;box-sizing: border-box;margin-bottom: 0.5em;}#sk-container-id-3 div.sk-estimator:hover {background-color: #d4ebff;}#sk-container-id-3 div.sk-parallel-item::after {content: \"\";width: 100%;border-bottom: 1px solid gray;flex-grow: 1;}#sk-container-id-3 div.sk-label:hover label.sk-toggleable__label {background-color: #d4ebff;}#sk-container-id-3 div.sk-serial::before {content: \"\";position: absolute;border-left: 1px solid gray;box-sizing: border-box;top: 0;bottom: 0;left: 50%;z-index: 0;}#sk-container-id-3 div.sk-serial {display: flex;flex-direction: column;align-items: center;background-color: white;padding-right: 0.2em;padding-left: 0.2em;position: relative;}#sk-container-id-3 div.sk-item {position: relative;z-index: 1;}#sk-container-id-3 div.sk-parallel {display: flex;align-items: stretch;justify-content: center;background-color: white;position: relative;}#sk-container-id-3 div.sk-item::before, #sk-container-id-3 div.sk-parallel-item::before {content: \"\";position: absolute;border-left: 1px solid gray;box-sizing: border-box;top: 0;bottom: 0;left: 50%;z-index: -1;}#sk-container-id-3 div.sk-parallel-item {display: flex;flex-direction: column;z-index: 1;position: relative;background-color: white;}#sk-container-id-3 div.sk-parallel-item:first-child::after {align-self: flex-end;width: 50%;}#sk-container-id-3 div.sk-parallel-item:last-child::after {align-self: flex-start;width: 50%;}#sk-container-id-3 div.sk-parallel-item:only-child::after {width: 0;}#sk-container-id-3 div.sk-dashed-wrapped {border: 1px dashed gray;margin: 0 0.4em 0.5em 0.4em;box-sizing: border-box;padding-bottom: 0.4em;background-color: white;}#sk-container-id-3 div.sk-label label {font-family: monospace;font-weight: bold;display: inline-block;line-height: 1.2em;}#sk-container-id-3 div.sk-label-container {text-align: center;}#sk-container-id-3 div.sk-container {/* jupyter's `normalize.less` sets `[hidden] { display: none; }` but bootstrap.min.css set `[hidden] { display: none !important; }` so we also need the `!important` here to be able to override the default hidden behavior on the sphinx rendered scikit-learn.org. See: https://github.com/scikit-learn/scikit-learn/issues/21755 */display: inline-block !important;position: relative;}#sk-container-id-3 div.sk-text-repr-fallback {display: none;}</style><div id=\"sk-container-id-3\" class=\"sk-top-container\"><div class=\"sk-text-repr-fallback\"><pre>LinearRegression()</pre><b>In a Jupyter environment, please rerun this cell to show the HTML representation or trust the notebook. <br />On GitHub, the HTML representation is unable to render, please try loading this page with nbviewer.org.</b></div><div class=\"sk-container\" hidden><div class=\"sk-item\"><div class=\"sk-estimator sk-toggleable\"><input class=\"sk-toggleable__control sk-hidden--visually\" id=\"sk-estimator-id-3\" type=\"checkbox\" checked><label for=\"sk-estimator-id-3\" class=\"sk-toggleable__label sk-toggleable__label-arrow\">LinearRegression</label><div class=\"sk-toggleable__content\"><pre>LinearRegression()</pre></div></div></div></div></div>"
      ],
      "text/plain": [
       "LinearRegression()"
      ]
     },
     "execution_count": 31,
     "metadata": {},
     "output_type": "execute_result"
    }
   ],
   "source": [
    "from sklearn.linear_model import LinearRegression\n",
    "linear_reg = LinearRegression()\n",
    "linear_reg.fit(transformed_columns_train,y_train)\n",
    "#.fit(features,target)\n",
    "\n",
    "# linear_reg.fit(train_split_num_prepared,train_split_price)"
   ]
  },
  {
   "cell_type": "code",
   "execution_count": 10,
   "metadata": {},
   "outputs": [
    {
     "data": {
      "text/plain": [
       "array([9165.25789084, 4437.98944963, 7416.69493016, ...,  -55.87664043,\n",
       "       8482.69017259, 1315.57954582])"
      ]
     },
     "execution_count": 10,
     "metadata": {},
     "output_type": "execute_result"
    }
   ],
   "source": [
    "# linear_pred = linear_reg.predict(train_split_num_prepared)\n",
    "\n",
    "linear_pred = linear_reg.predict(transformed_columns_train)\n",
    "linear_pred"
   ]
  },
  {
   "cell_type": "code",
   "execution_count": 11,
   "metadata": {},
   "outputs": [
    {
     "name": "stdout",
     "output_type": "stream",
     "text": [
      "linear_mse is 1839246.390798467\n",
      "linear_rmse is 1356.1881841390843\n"
     ]
    }
   ],
   "source": [
    "from sklearn.metrics import mean_squared_error\n",
    "linear_mse= mean_squared_error(y_train,linear_pred)\n",
    "print('linear_mse is', linear_mse)\n",
    "# mse = mean_squared_error(true, predicted)\n",
    "linear_rmse = np.sqrt(linear_mse)\n",
    "print('linear_rmse is', linear_rmse)"
   ]
  },
  {
   "cell_type": "code",
   "execution_count": 12,
   "metadata": {},
   "outputs": [
    {
     "data": {
      "text/plain": [
       "array([1301.26120123, 1435.42581345, 1332.95404938, 1329.14267773,\n",
       "       1377.92057619, 1393.78176881, 1412.66817014, 1375.43960597,\n",
       "       1388.71755776, 1296.54877075])"
      ]
     },
     "execution_count": 12,
     "metadata": {},
     "output_type": "execute_result"
    }
   ],
   "source": [
    "# -cross_val_score(estimator, features, target, scoring=\"neg_root_mean_squared_error\", cv=10)\n",
    "linear_reg_cross_val = -cross_val_score(linear_reg, transformed_columns_train, y_train, scoring=\"neg_root_mean_squared_error\", cv=10)\n",
    "linear_reg_cross_val"
   ]
  },
  {
   "cell_type": "code",
   "execution_count": 13,
   "metadata": {},
   "outputs": [
    {
     "data": {
      "text/plain": [
       "count      10.000000\n",
       "mean     1364.386019\n",
       "std        47.088587\n",
       "min      1296.548771\n",
       "25%      1330.095521\n",
       "50%      1376.680091\n",
       "75%      1392.515716\n",
       "max      1435.425813\n",
       "dtype: float64"
      ]
     },
     "execution_count": 13,
     "metadata": {},
     "output_type": "execute_result"
    }
   ],
   "source": [
    "pd.Series(linear_reg_cross_val).describe()"
   ]
  },
  {
   "attachments": {},
   "cell_type": "markdown",
   "metadata": {},
   "source": [
    "Using Decision Tree Regressor"
   ]
  },
  {
   "cell_type": "code",
   "execution_count": 15,
   "metadata": {},
   "outputs": [
    {
     "data": {
      "text/plain": [
       "array([8749., 2801., 8362., ...,  709., 8555., 1123.])"
      ]
     },
     "execution_count": 15,
     "metadata": {},
     "output_type": "execute_result"
    }
   ],
   "source": [
    "from sklearn.tree import DecisionTreeRegressor\n",
    "dec_tree_reg = DecisionTreeRegressor(random_state = 0)\n",
    "dec_tree_reg.fit(transformed_columns_train,y_train)\n",
    "dec_tree_pred = dec_tree_reg.predict(transformed_columns_train)\n",
    "dec_tree_pred"
   ]
  },
  {
   "cell_type": "code",
   "execution_count": 92,
   "metadata": {},
   "outputs": [
    {
     "name": "stdout",
     "output_type": "stream",
     "text": [
      "dec_tree_mse is 72.34086980871547\n",
      "dec_tree_rmse is 8.505343603212951\n"
     ]
    }
   ],
   "source": [
    "dec_tree_mse= mean_squared_error(y_train,dec_tree_pred) \n",
    "print('dec_tree_mse is', dec_tree_mse)\n",
    "dec_tree_rmse = np.sqrt(dec_tree_mse)\n",
    "print('dec_tree_rmse is', dec_tree_rmse)"
   ]
  },
  {
   "cell_type": "code",
   "execution_count": 93,
   "metadata": {},
   "outputs": [
    {
     "data": {
      "text/plain": [
       "array([733.80037704, 816.38138535, 798.88762403, 773.98825692,\n",
       "       718.83249308, 713.31703333, 746.84644674, 786.5418782 ,\n",
       "       811.60158191, 742.99471197])"
      ]
     },
     "execution_count": 93,
     "metadata": {},
     "output_type": "execute_result"
    }
   ],
   "source": [
    "dec_tree_cross_val = -cross_val_score(dec_tree_reg,transformed_columns, y_train, \n",
    "                                      scoring=\"neg_root_mean_squared_error\", cv=10)\n",
    "dec_tree_cross_val"
   ]
  },
  {
   "cell_type": "code",
   "execution_count": 94,
   "metadata": {},
   "outputs": [
    {
     "data": {
      "text/plain": [
       "count     10.000000\n",
       "mean     764.319179\n",
       "std       38.137325\n",
       "min      713.317033\n",
       "25%      736.098961\n",
       "50%      760.417352\n",
       "75%      795.801188\n",
       "max      816.381385\n",
       "dtype: float64"
      ]
     },
     "execution_count": 94,
     "metadata": {},
     "output_type": "execute_result"
    }
   ],
   "source": [
    "pd.Series(dec_tree_cross_val).describe()"
   ]
  },
  {
   "attachments": {},
   "cell_type": "markdown",
   "metadata": {},
   "source": [
    "Using Random Forest Regressor"
   ]
  },
  {
   "cell_type": "code",
   "execution_count": 95,
   "metadata": {},
   "outputs": [
    {
     "data": {
      "text/plain": [
       "array([8679.87, 2862.17, 8137.34, ...,  701.19, 8654.91, 1110.56])"
      ]
     },
     "execution_count": 95,
     "metadata": {},
     "output_type": "execute_result"
    }
   ],
   "source": [
    "from sklearn.ensemble import RandomForestRegressor\n",
    "random_forest_reg = RandomForestRegressor(random_state=0)\n",
    "\n",
    "random_forest_reg.fit(transformed_columns,y_train)\n",
    "\n",
    "random_forest_pred= random_forest_reg.predict(transformed_columns)\n",
    "random_forest_pred"
   ]
  },
  {
   "cell_type": "code",
   "execution_count": 96,
   "metadata": {},
   "outputs": [
    {
     "name": "stdout",
     "output_type": "stream",
     "text": [
      "random_forest_mse is  43843.49852711547\n",
      "random_forest_rmse is  209.38839157679078\n"
     ]
    }
   ],
   "source": [
    "random_forest_mse = mean_squared_error(y_train,random_forest_pred)\n",
    "print(\"random_forest_mse is \", random_forest_mse)\n",
    "random_forest_rmse = np.sqrt(random_forest_mse)\n",
    "print(\"random_forest_rmse is \", random_forest_rmse)"
   ]
  },
  {
   "cell_type": "code",
   "execution_count": 97,
   "metadata": {},
   "outputs": [
    {
     "data": {
      "text/plain": [
       "array([564.75586091, 551.72977993, 568.21867922, 566.85903165,\n",
       "       549.01771734, 549.31853941, 572.95807523, 581.12801021,\n",
       "       601.21216464, 533.38766876])"
      ]
     },
     "execution_count": 97,
     "metadata": {},
     "output_type": "execute_result"
    }
   ],
   "source": [
    "random_forest_reg_cross_val = -cross_val_score(random_forest_reg, transformed_columns, y_train, \n",
    "                                               scoring='neg_root_mean_squared_error', cv=10 )\n",
    "random_forest_reg_cross_val"
   ]
  },
  {
   "cell_type": "code",
   "execution_count": 98,
   "metadata": {},
   "outputs": [
    {
     "data": {
      "text/plain": [
       "count     10.000000\n",
       "mean     563.858553\n",
       "std       19.184458\n",
       "min      533.387669\n",
       "25%      549.921350\n",
       "50%      565.807446\n",
       "75%      571.773226\n",
       "max      601.212165\n",
       "dtype: float64"
      ]
     },
     "execution_count": 98,
     "metadata": {},
     "output_type": "execute_result"
    }
   ],
   "source": [
    "pd.Series(random_forest_reg_cross_val).describe()"
   ]
  },
  {
   "attachments": {},
   "cell_type": "markdown",
   "metadata": {},
   "source": [
    "Using KNN (K-Nearest Neighbors) Regressor"
   ]
  },
  {
   "cell_type": "code",
   "execution_count": 208,
   "metadata": {},
   "outputs": [
    {
     "data": {
      "text/plain": [
       "array([8312. , 2971.8, 7617. , ...,  676.6, 8467. , 1090. ])"
      ]
     },
     "execution_count": 208,
     "metadata": {},
     "output_type": "execute_result"
    }
   ],
   "source": [
    "from sklearn.neighbors import KNeighborsRegressor\n",
    "knn_reg = KNeighborsRegressor()\n",
    "\n",
    "knn_reg.fit(transformed_columns,y_train)\n",
    "\n",
    "knn_reg_pred= knn_reg.predict(transformed_columns)\n",
    "knn_reg_pred"
   ]
  },
  {
   "cell_type": "code",
   "execution_count": 209,
   "metadata": {},
   "outputs": [
    {
     "name": "stdout",
     "output_type": "stream",
     "text": [
      "knn_reg_mse is  384910.4561061383\n",
      "knn_reg_rmse is  620.4115215775238\n"
     ]
    }
   ],
   "source": [
    "knn_reg_mse = mean_squared_error(y_train,knn_reg_pred)\n",
    "print(\"knn_reg_mse is \", knn_reg_mse)\n",
    "knn_reg_rmse = np.sqrt(knn_reg_mse)\n",
    "print(\"knn_reg_rmse is \", knn_reg_rmse)"
   ]
  },
  {
   "cell_type": "code",
   "execution_count": 210,
   "metadata": {},
   "outputs": [
    {
     "data": {
      "text/plain": [
       "array([802.98170294, 814.03465496, 761.41463996, 819.99192444,\n",
       "       789.18007618, 742.46663372, 799.08810901, 787.18497899,\n",
       "       823.08494254, 763.10957699])"
      ]
     },
     "execution_count": 210,
     "metadata": {},
     "output_type": "execute_result"
    }
   ],
   "source": [
    "knn_reg_cross_val = -cross_val_score(knn_reg, transformed_columns, y_train, \n",
    "                                               scoring='neg_root_mean_squared_error', cv=10 )\n",
    "knn_reg_cross_val"
   ]
  },
  {
   "cell_type": "code",
   "execution_count": 211,
   "metadata": {},
   "outputs": [
    {
     "data": {
      "text/plain": [
       "count     10.000000\n",
       "mean     790.253724\n",
       "std       27.142634\n",
       "min      742.466634\n",
       "25%      769.128427\n",
       "50%      794.134093\n",
       "75%      811.271417\n",
       "max      823.084943\n",
       "dtype: float64"
      ]
     },
     "execution_count": 211,
     "metadata": {},
     "output_type": "execute_result"
    }
   ],
   "source": [
    "pd.Series(knn_reg_cross_val).describe()"
   ]
  },
  {
   "cell_type": "code",
   "execution_count": 190,
   "metadata": {},
   "outputs": [],
   "source": [
    "#Used for filling results\n",
    "# linear_reg.fit(train_split_num_prepared,train_split_price)\n",
    "# linear_pred = linear_reg.predict(train_split_num_prepared)\n",
    "# cross_val_score(linear_reg, train_split_num_prepared, train_split_price,"
   ]
  },
  {
   "attachments": {},
   "cell_type": "markdown",
   "metadata": {},
   "source": [
    "Using XGBoost (eXtreme Gradient Boosting) Regressor"
   ]
  },
  {
   "cell_type": "code",
   "execution_count": 238,
   "metadata": {},
   "outputs": [
    {
     "data": {
      "text/plain": [
       "array([8380.902  , 2704.821  , 7705.0493 , ...,  684.77405, 8683.777  ,\n",
       "       1168.9418 ], dtype=float32)"
      ]
     },
     "execution_count": 238,
     "metadata": {},
     "output_type": "execute_result"
    }
   ],
   "source": [
    "from xgboost import XGBRegressor\n",
    "\n",
    "xgb_reg = XGBRegressor()\n",
    "xgb_reg.fit(transformed_columns,y_train)\n",
    "\n",
    "xgb_reg_pred = xgb_reg.predict(transformed_columns)\n",
    "xgb_reg_pred"
   ]
  },
  {
   "cell_type": "code",
   "execution_count": 239,
   "metadata": {},
   "outputs": [
    {
     "name": "stdout",
     "output_type": "stream",
     "text": [
      "xgb_reg_mse is  132263.91868348708\n",
      "xgb_reg_rmse is  363.6810672601573\n"
     ]
    }
   ],
   "source": [
    "xgb_reg_mse = mean_squared_error(y_train,xgb_reg_pred)\n",
    "print(\"xgb_reg_mse is \", xgb_reg_mse)\n",
    "xgb_reg_rmse = np.sqrt(xgb_reg_mse)\n",
    "print(\"xgb_reg_rmse is \", xgb_reg_rmse)"
   ]
  },
  {
   "cell_type": "code",
   "execution_count": 240,
   "metadata": {},
   "outputs": [
    {
     "data": {
      "text/plain": [
       "array([538.65758554, 540.88164534, 549.75785468, 582.59459886,\n",
       "       548.10428361, 545.04502231, 585.6143517 , 585.82894245,\n",
       "       592.96518248, 523.307096  ])"
      ]
     },
     "execution_count": 240,
     "metadata": {},
     "output_type": "execute_result"
    }
   ],
   "source": [
    "xgb_reg_cross_val = -cross_val_score(xgb_reg, transformed_columns, y_train, \n",
    "                                   scoring='neg_root_mean_squared_error', cv=10 )\n",
    "xgb_reg_cross_val"
   ]
  },
  {
   "cell_type": "code",
   "execution_count": 241,
   "metadata": {},
   "outputs": [
    {
     "data": {
      "text/plain": [
       "count     10.000000\n",
       "mean     559.275656\n",
       "std       24.838684\n",
       "min      523.307096\n",
       "25%      541.922490\n",
       "50%      548.931069\n",
       "75%      584.859413\n",
       "max      592.965182\n",
       "dtype: float64"
      ]
     },
     "execution_count": 241,
     "metadata": {},
     "output_type": "execute_result"
    }
   ],
   "source": [
    "pd.Series(xgb_reg_cross_val).describe()"
   ]
  },
  {
   "cell_type": "code",
   "execution_count": 203,
   "metadata": {},
   "outputs": [
    {
     "data": {
      "text/plain": [
       "'max_depth = [0, 5, 10, 15]\\nmin_child_weight = [1, 2, 3, 4, 5]\\nlearning_rate = [0.05, 0.1, 0.15, 0.2]\\nn_estimators = [25,50, 100]\\n\\nparam_grid= {\\n \\'max_depth\\': max_depth,\\n \\'min_child_weight\\': min_child_weight,\\n \\'learning_rate\\': learning_rate,\\n \\'n_estimators\\': n_estimators\\n}\\ngrid_model= GridSearchCV(estimator= xgb_reg, param_grid= param_grid, scoring= \"neg_root_mean_squared_error\")\\n\\ngrid_model.fit(transformed_columns,y_train)\\ngrid_model.best_params_'"
      ]
     },
     "execution_count": 203,
     "metadata": {},
     "output_type": "execute_result"
    }
   ],
   "source": [
    "#Since XBG returned the lowest RMSE value I had to find the best parameters for it\n",
    "#Results below\n",
    "\n",
    "'''max_depth = [0, 5, 10, 15]\n",
    "min_child_weight = [1, 2, 3, 4, 5]\n",
    "learning_rate = [0.05, 0.1, 0.15, 0.2]\n",
    "n_estimators = [25,50, 100]\n",
    "\n",
    "param_grid= {\n",
    " 'max_depth': max_depth,\n",
    " 'min_child_weight': min_child_weight,\n",
    " 'learning_rate': learning_rate,\n",
    " 'n_estimators': n_estimators\n",
    "}\n",
    "grid_model= GridSearchCV(estimator= xgb_reg, param_grid= param_grid, scoring= \"neg_root_mean_squared_error\")\n",
    "\n",
    "grid_model.fit(transformed_columns,y_train)\n",
    "grid_model.best_params_'''\n",
    "\n",
    "# This is the Output\n",
    "# {'learning_rate': 0.1,\n",
    "#  'max_depth': 10,\n",
    "#  'min_child_weight': 3,\n",
    "#  'n_estimators': 100}"
   ]
  },
  {
   "attachments": {},
   "cell_type": "markdown",
   "metadata": {},
   "source": [
    "Ignore this, it was used to make work easier"
   ]
  },
  {
   "cell_type": "code",
   "execution_count": 64,
   "metadata": {},
   "outputs": [],
   "source": [
    "# from sklearn.linear_model import LinearRegression\n",
    "# linear_reg = LinearRegression()\n",
    "# linear_reg.fit(transformed_columns,y_train)\n",
    "# linear_pred = linear_reg.predict(transformed_columns)\n",
    "# #.fit(features,target)\n",
    "# linear_mse= mean_squared_error(y_train,linear_pred)\n",
    "# -cross_val_score(linear_reg, transformed_columns, y_train"
   ]
  },
  {
   "attachments": {},
   "cell_type": "markdown",
   "metadata": {},
   "source": [
    "# Applying model to test.csv"
   ]
  },
  {
   "cell_type": "code",
   "execution_count": 245,
   "metadata": {},
   "outputs": [
    {
     "name": "stdout",
     "output_type": "stream",
     "text": [
      "test_set shape is (10788, 10)\n"
     ]
    },
    {
     "data": {
      "text/plain": [
       "array([[-0.96342224, -0.46321052, -0.20230891, ...,  2.        ,\n",
       "         3.        ,  7.        ],\n",
       "       [-0.18558493,  0.66259865,  0.24475238, ...,  3.        ,\n",
       "         1.        ,  5.        ],\n",
       "       [-0.75319594,  0.73296173, -0.64937019, ...,  4.        ,\n",
       "         5.        ,  4.        ],\n",
       "       ...,\n",
       "       [-0.18558493,  0.38114636, -1.09643147, ...,  2.        ,\n",
       "         1.        ,  6.        ],\n",
       "       [ 0.65532028, -0.5335736 ,  1.13887494, ...,  3.        ,\n",
       "         1.        ,  3.        ],\n",
       "       [ 2.52633435, -0.18175823,  0.69181366, ...,  3.        ,\n",
       "         2.        ,  3.        ]])"
      ]
     },
     "execution_count": 245,
     "metadata": {},
     "output_type": "execute_result"
    }
   ],
   "source": [
    "test_set =pd.read_csv('file_location')\n",
    "# test_set.drop(['cut','color','clarity'],axis=1,inplace=True)\n",
    "print('test_set shape is',test_set.shape)\n",
    "# test_set['volume'] = test_set['x'] *test_set['y'] *test_set['z']\n",
    "Id=test_set['Id']\n",
    "\n",
    "transformed_columns_test = transformer.transform(test_set)\n",
    "transformed_columns_test\n",
    "\n",
    "#Use transformed_columns_test = transformer.transform(test_set) instead of .fit_transform() to improve the score\n",
    "#Using transform applies what was learnt from the dataset before intead of learning it again"
   ]
  },
  {
   "cell_type": "code",
   "execution_count": 247,
   "metadata": {},
   "outputs": [
    {
     "data": {
      "text/plain": [
       "array([  938.4242,  2886.9717,   821.1859, ...,  4440.051 ,  4698.4365,\n",
       "       13935.994 ], dtype=float32)"
      ]
     },
     "execution_count": 247,
     "metadata": {},
     "output_type": "execute_result"
    }
   ],
   "source": [
    "# {'learning_rate': 0.1,\n",
    "#  'max_depth': 10,\n",
    "#  'min_child_weight': 3,\n",
    "#  'n_estimators': 100}\n",
    "\n",
    "xgb_reg = XGBRegressor(learning_rate=0.1,max_depth=10,min_child_weight=3,n_estimators=100)\n",
    "\n",
    "xgb_reg.fit(transformed_columns,y_train)\n",
    "# print('transformed_columns shape is',transformed_columns.shape)\n",
    "\n",
    "pred =xgb_reg.predict(transformed_columns_test)\n",
    "pred\n",
    "# .drop('Id',axis=1)"
   ]
  },
  {
   "cell_type": "code",
   "execution_count": 244,
   "metadata": {},
   "outputs": [
    {
     "name": "stdout",
     "output_type": "stream",
     "text": [
      "          Id         price\n",
      "0          1    938.424194\n",
      "1          2   2886.971680\n",
      "2          3    821.185913\n",
      "3          4   2847.711426\n",
      "4          5   1112.746948\n",
      "...      ...           ...\n",
      "10783  10784   1714.443115\n",
      "10784  10785   6625.739746\n",
      "10785  10786   4440.050781\n",
      "10786  10787   4698.436523\n",
      "10787  10788  13935.994141\n",
      "\n",
      "[10788 rows x 2 columns]\n"
     ]
    }
   ],
   "source": [
    "data={'Id': Id, 'price':pred }\n",
    "sub = pd.DataFrame(data=data)\n",
    "print(sub)"
   ]
  },
  {
   "cell_type": "code",
   "execution_count": 230,
   "metadata": {},
   "outputs": [],
   "source": [
    "#Used to save the data\n",
    "# sub.to_csv('name',index=False)"
   ]
  }
 ],
 "metadata": {
  "kernelspec": {
   "display_name": "Python 3",
   "language": "python",
   "name": "python3"
  },
  "language_info": {
   "codemirror_mode": {
    "name": "ipython",
    "version": 3
   },
   "file_extension": ".py",
   "mimetype": "text/x-python",
   "name": "python",
   "nbconvert_exporter": "python",
   "pygments_lexer": "ipython3",
   "version": "3.9.0"
  },
  "orig_nbformat": 4
 },
 "nbformat": 4,
 "nbformat_minor": 2
}
